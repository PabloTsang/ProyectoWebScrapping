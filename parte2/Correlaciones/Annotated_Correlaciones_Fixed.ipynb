{
 "cells": [
  {
   "cell_type": "code",
   "execution_count": null,
   "id": "18ed2b63",
   "metadata": {},
   "outputs": [],
   "source": [
    "import pandas as pd\n",
    "import matplotlib.pyplot as plt\n",
    "import seaborn as sns\n",
    "import numpy as np"
   ]
  },
  {
   "cell_type": "markdown",
   "id": "34c513ca",
   "metadata": {},
   "source": [
    "### Explanation: Library Imports\n",
    "- `pandas`: For data manipulation and analysis.\n",
    "- `matplotlib.pyplot`: For creating data visualizations.\n",
    "- `seaborn`: For advanced, aesthetically pleasing statistical plots.\n",
    "- `numpy`: For numerical computations and array manipulations."
   ]
  },
  {
   "cell_type": "code",
   "execution_count": null,
   "id": "d09ed202",
   "metadata": {},
   "outputs": [],
   "source": [
    "df = pd.read_csv(\"restaurants_definitivo.csv\", index_col = 0)\n",
    "df.head()"
   ]
  },
  {
   "cell_type": "markdown",
   "id": "4d86b794",
   "metadata": {},
   "source": [
    "### Explanation: Loading the Dataset\n",
    "- The dataset `restaurants_definitivo.csv` is loaded into a pandas DataFrame.\n",
    "- `index_col=0` sets the first column as the index of the DataFrame.\n",
    "- `df.head()` displays the first five rows for a quick overview."
   ]
  },
  {
   "cell_type": "code",
   "execution_count": null,
   "id": "a6572f77",
   "metadata": {},
   "outputs": [],
   "source": [
    "df.describe()"
   ]
  },
  {
   "cell_type": "markdown",
   "id": "fbb1ac3a",
   "metadata": {},
   "source": [
    "### Explanation: Descriptive Statistics\n",
    "- `df.describe()` provides summary statistics for numerical columns:\n",
    "  - **Count**: Number of non-null values.\n",
    "  - **Mean**: Average value.\n",
    "  - **Std**: Standard deviation (spread of the data).\n",
    "  - **Min/Max**: Minimum and maximum values.\n",
    "  - **25%, 50%, 75%**: Quartile values, showing data distribution."
   ]
  },
  {
   "cell_type": "code",
   "execution_count": null,
   "id": "05fed537",
   "metadata": {},
   "outputs": [],
   "source": [
    "df[['Number of Ratings', 'Restaurant Rating']].isna().sum() # Count how many Nan values are present"
   ]
  },
  {
   "cell_type": "code",
   "execution_count": null,
   "id": "b0278f31",
   "metadata": {},
   "outputs": [],
   "source": [
    "df[df[['Number of Ratings', 'Restaurant Rating']].isna().any(axis=1)].head() # view the NaN values"
   ]
  },
  {
   "cell_type": "code",
   "execution_count": null,
   "id": "3fd84d24",
   "metadata": {},
   "outputs": [],
   "source": [
    "df_clean = df[['Number of Ratings', 'Restaurant Rating']].dropna() # Remove the NaN restaurante rows"
   ]
  },
  {
   "cell_type": "code",
   "execution_count": null,
   "id": "09618787",
   "metadata": {},
   "outputs": [],
   "source": [
    "df_clean.corr()"
   ]
  },
  {
   "cell_type": "code",
   "execution_count": null,
   "id": "fb01c4e5",
   "metadata": {},
   "outputs": [],
   "source": [
    "df['Timetable'] = df['Timetable'].fillna('Closed')  # Replace NaN\n",
    "df['Timetable'] = df['Timetable'].replace([\"{'Horario': 'No hay horario'}\", \"{'Horario': 'No Timetable'}\", \"\"], 'Closed')"
   ]
  },
  {
   "cell_type": "code",
   "execution_count": null,
   "id": "1e1d2e77",
   "metadata": {},
   "outputs": [],
   "source": [
    "from datetime import datetime, timedelta\n",
    "\n",
    "def calculate_total_hours(timetable):\n",
    "    try:\n",
    "        # Check that the input is a string\n",
    "        if not isinstance(timetable, str):\n",
    "            print(f\"Invalid entry: {timetable} (not a string)\")\n",
    "            return 0, 0\n",
    "\n",
    "        if timetable == \"Closed\":\n",
    "            return None, 0\n",
    "\n",
    "        \n",
    "        timetable_dict = eval(timetable) # Convert the string to a dictionary\n",
    "        total_hours = 0\n",
    "        days_open = 0\n",
    "\n",
    "        for day, hours in timetable_dict.items():\n",
    "            if hours != 'Closed':\n",
    "                shifts = hours.split(\", \") # Some days contain multiple shifts\n",
    "                daily_hours = 0\n",
    "                days_open += 1\n",
    "\n",
    "                for shift in shifts:\n",
    "                    if ' - ' not in shift:\n",
    "                        print(f\"Invalid format for {day}: {shift}\")\n",
    "                        continue  # Skip invalid formats\n",
    "\n",
    "                    opening, closing = shift.split(\" - \")\n",
    "                    \n",
    "                    # Convert to datetime objects\n",
    "                    opening_time = datetime.strptime(opening, '%H:%M')\n",
    "                    closing_time = datetime.strptime(closing, '%H:%M')\n",
    "\n",
    "                    # Handle overnight shifts\n",
    "                    if closing_time < opening_time:\n",
    "                        closing_time += timedelta(days=1)\n",
    "\n",
    "                    # Calculate hours for the shift\n",
    "                    shift_hours = (closing_time - opening_time).seconds / 3600  # Convert seconds to hours\n",
    "                    daily_hours += shift_hours\n",
    "\n",
    "                total_hours += daily_hours\n",
    "\n",
    "        return total_hours, days_open\n",
    "    except Exception as e:\n",
    "        print(f\"Error processing timetable: {timetable} - {e}\")\n",
    "        return 0, 0"
   ]
  },
  {
   "cell_type": "markdown",
   "id": "94eec89d",
   "metadata": {},
   "source": [
    "### Explanation: Library Imports\n",
    "- `pandas`: For data manipulation and analysis.\n",
    "- `matplotlib.pyplot`: For creating data visualizations.\n",
    "- `seaborn`: For advanced, aesthetically pleasing statistical plots.\n",
    "- `numpy`: For numerical computations and array manipulations."
   ]
  },
  {
   "cell_type": "code",
   "execution_count": null,
   "id": "3f05cb88",
   "metadata": {},
   "outputs": [],
   "source": [
    "df[['Total Work Hours', \"Days Open\"]] = df['Timetable'].apply(calculate_total_hours).apply(pd.Series)\n",
    "df[['Total Work Hours', 'Days Open']].head()"
   ]
  },
  {
   "cell_type": "code",
   "execution_count": null,
   "id": "992999af",
   "metadata": {},
   "outputs": [],
   "source": [
    "nan_rows = df[df[\"Total Work Hours\"].isna()]\n",
    "nan_rows"
   ]
  },
  {
   "cell_type": "code",
   "execution_count": null,
   "id": "9fa60bc5",
   "metadata": {},
   "outputs": [],
   "source": [
    "df[[\"Number of Bookmarks\"]].isna().sum()"
   ]
  },
  {
   "cell_type": "code",
   "execution_count": null,
   "id": "d7958b51",
   "metadata": {},
   "outputs": [],
   "source": [
    "df[[\"Number of Ratings\"]].isna().sum()"
   ]
  },
  {
   "cell_type": "code",
   "execution_count": null,
   "id": "d02f5476",
   "metadata": {},
   "outputs": [],
   "source": [
    "(df[\"Number of Ratings\"] == 0).sum()"
   ]
  },
  {
   "cell_type": "code",
   "execution_count": null,
   "id": "09cb16ff",
   "metadata": {},
   "outputs": [],
   "source": [
    "(df[\"Number of Bookmarks\"] == 0).sum()"
   ]
  },
  {
   "cell_type": "code",
   "execution_count": null,
   "id": "f8f8e8ae",
   "metadata": {},
   "outputs": [],
   "source": [
    "df_clean = df.dropna(subset=[\"Number of Bookmarks\", \"Number of Ratings\"])\n",
    "df_clean = df_clean.fillna({\"Total Work Hours\": 0})\n",
    "df_clean.isna().sum()"
   ]
  },
  {
   "cell_type": "code",
   "execution_count": null,
   "id": "57533e2e",
   "metadata": {},
   "outputs": [],
   "source": [
    "plt.figure(figsize=(10,6))\n",
    "plt.scatter(df_clean[\"Number of Bookmarks\"], df_clean[\"Number of Ratings\"], alpha=0.6, edgecolors='w', label=\"Data Points\")\n",
    "\n",
    "x = df_clean[\"Number of Bookmarks\"]\n",
    "y = df_clean[\"Number of Ratings\"]\n",
    "\n",
    "m, b = np.polyfit(x, y, 1)\n",
    "print(m)\n",
    "print(b)\n",
    "plt.plot(x, m * x + b, color='red', label=\"Best Fit Line\")\n",
    "plt.xlabel(\"Number of Bookmarks\", fontsize=12)\n",
    "plt.ylabel(\"Number of Ratings\", fontsize=12)\n",
    "plt.title(\"Number of Bookmarks vs Number of Ratings\", fontsize=14)\n",
    "plt.legend()\n",
    "plt.grid(True)\n",
    "plt.savefig('ratings_bookmarks_corr.png', bbox_inches='tight')\n",
    "plt.show()"
   ]
  },
  {
   "cell_type": "code",
   "execution_count": null,
   "id": "63a47450",
   "metadata": {},
   "outputs": [],
   "source": [
    "df_clean"
   ]
  },
  {
   "cell_type": "code",
   "execution_count": null,
   "id": "f0a100cd",
   "metadata": {},
   "outputs": [],
   "source": [
    "df_clean[\"Average Daily Hours\"] = round(df_clean[\"Total Work Hours\"] / 7, 2)\n",
    "df_clean"
   ]
  },
  {
   "cell_type": "code",
   "execution_count": null,
   "id": "58d9eb7e",
   "metadata": {},
   "outputs": [],
   "source": [
    "df_clean[[\"Website\", \"Instagram\", \"Facebook\"]]"
   ]
  },
  {
   "cell_type": "code",
   "execution_count": null,
   "id": "9f5b5caa",
   "metadata": {},
   "outputs": [],
   "source": [
    "def map_links(value):\n",
    "    if value.startswith(\"No\"):\n",
    "        return 0\n",
    "    else:\n",
    "        return 1\n"
   ]
  },
  {
   "cell_type": "code",
   "execution_count": null,
   "id": "2c1db4b2",
   "metadata": {},
   "outputs": [],
   "source": [
    "df = df_clean"
   ]
  },
  {
   "cell_type": "code",
   "execution_count": null,
   "id": "f53c4055",
   "metadata": {},
   "outputs": [],
   "source": [
    "df[\"Website\"] = df[\"Website\"].apply(map_links)\n",
    "df[\"Instagram\"] = df[\"Instagram\"].apply(map_links)\n",
    "df[\"Facebook\"] = df[\"Facebook\"].apply(map_links)\n",
    "df"
   ]
  },
  {
   "cell_type": "code",
   "execution_count": null,
   "id": "85e187fc",
   "metadata": {},
   "outputs": [],
   "source": [
    "df[\"Total Social Media\"] = df[[\"Website\", \"Instagram\", \"Facebook\"]].apply(lambda row: sum(value == 1 for value in row), axis=1)"
   ]
  },
  {
   "cell_type": "code",
   "execution_count": null,
   "id": "a8107f9d",
   "metadata": {},
   "outputs": [],
   "source": [
    "df[\"Has Social Media\"] = df[['Website', 'Instagram', 'Facebook']].apply(lambda row: 1 if any(value == 1 for value in row) else 0, axis=1)"
   ]
  },
  {
   "cell_type": "code",
   "execution_count": null,
   "id": "a7c56976",
   "metadata": {},
   "outputs": [],
   "source": [
    "transform_prices = {\n",
    "    \"Barato\": 1,\n",
    "    \"Moderado\": 2,\n",
    "    \"Caro\": 3,\n",
    "    \"No price range\": 0\n",
    "}\n",
    "df = df.replace(transform_prices)"
   ]
  },
  {
   "cell_type": "code",
   "execution_count": null,
   "id": "a6eee96c",
   "metadata": {},
   "outputs": [],
   "source": [
    "df"
   ]
  },
  {
   "cell_type": "code",
   "execution_count": null,
   "id": "16a75b29",
   "metadata": {},
   "outputs": [],
   "source": [
    "from sklearn.preprocessing import MinMaxScaler\n",
    "scaler = MinMaxScaler()\n",
    "df_norm = pd.DataFrame()\n",
    "df_norm[['Normalized Ratings', 'Normalized Bookmarks', 'Normalized Rating', 'Normalized Social Media', 'Normalized Price']] = scaler.fit_transform(\n",
    "    df[['Number of Ratings', 'Number of Bookmarks', 'Restaurant Rating', 'Total Social Media', 'Price Range']])\n",
    "    \n",
    "df['Popularity'] = (\n",
    "    df_norm['Normalized Ratings'] * 0.4 +  \n",
    "    df_norm['Normalized Rating'] * 0.20 +  \n",
    "    df_norm['Normalized Bookmarks'] * 0.2 + \n",
    "    df_norm['Normalized Social Media'] * 0.1 + \n",
    "    df_norm['Normalized Price'] * 0.1\n",
    ")\n",
    "df_norm"
   ]
  },
  {
   "cell_type": "markdown",
   "id": "b304c564",
   "metadata": {},
   "source": [
    "### Explanation: Library Imports\n",
    "- `pandas`: For data manipulation and analysis.\n",
    "- `matplotlib.pyplot`: For creating data visualizations.\n",
    "- `seaborn`: For advanced, aesthetically pleasing statistical plots.\n",
    "- `numpy`: For numerical computations and array manipulations."
   ]
  },
  {
   "cell_type": "code",
   "execution_count": null,
   "id": "f0128767",
   "metadata": {},
   "outputs": [],
   "source": [
    "df['Popularity'].hist(bins=20, figsize=(8, 5), alpha=0.7, color='blue')\n",
    "plt.title('Distribution of Popularity Metric')\n",
    "plt.xlabel('Popularity')\n",
    "plt.ylabel('Frequency')\n",
    "plt.savefig('popularity.png', bbox_inches='tight')\n",
    "plt.show()"
   ]
  },
  {
   "cell_type": "code",
   "execution_count": null,
   "id": "eaf8ddbb",
   "metadata": {},
   "outputs": [],
   "source": [
    "numeric_cols = df.select_dtypes(include=[\"number\"])\n",
    "numeric_cols = numeric_cols.loc[: , ~numeric_cols.columns.isin([\"id\", \"Lat\", \"Long\"])] # Exclude id, Lat, Long columns\n",
    "correlation_matrix = numeric_cols.corr()\n",
    "\n",
    "plt.figure(figsize=(10, 8))\n",
    "ax = sns.heatmap(correlation_matrix, annot=True, cmap='coolwarm', fmt=\".2f\", linewidths=0.5)\n",
    "plt.title('Correlation Matrix for Numeric Columns')\n",
    "ax.set_xticklabels(ax.get_xticklabels(), rotation=35, horizontalalignment='right')\n",
    "plt.savefig('matriz_correlaciones.png', bbox_inches='tight')\n",
    "plt.show()"
   ]
  },
  {
   "cell_type": "code",
   "execution_count": null,
   "id": "60c4f8ee",
   "metadata": {},
   "outputs": [],
   "source": [
    "plt.figure(figsize=(10, 6))\n",
    "plt.scatter(df['Total Work Hours'], df['Popularity'], alpha=0.6)\n",
    "plt.title('Work Hours vs Popularity')\n",
    "plt.xlabel('Total Work Hours')\n",
    "plt.ylabel('Popularity')\n",
    "plt.grid(True)\n",
    "plt.show()"
   ]
  },
  {
   "cell_type": "code",
   "execution_count": null,
   "id": "a4b2a86a",
   "metadata": {},
   "outputs": [],
   "source": [
    "df_types = pd.read_csv(\"df_tipos.csv\", index_col=0)\n",
    "df_types"
   ]
  },
  {
   "cell_type": "markdown",
   "id": "8a226ee5",
   "metadata": {},
   "source": [
    "### Explanation: Loading the Dataset\n",
    "- The dataset `restaurants_definitivo.csv` is loaded into a pandas DataFrame.\n",
    "- `index_col=0` sets the first column as the index of the DataFrame.\n",
    "- `df.head()` displays the first five rows for a quick overview."
   ]
  },
  {
   "cell_type": "code",
   "execution_count": null,
   "id": "de844af1",
   "metadata": {},
   "outputs": [],
   "source": []
  }
 ],
 "metadata": {},
 "nbformat": 4,
 "nbformat_minor": 5
}
